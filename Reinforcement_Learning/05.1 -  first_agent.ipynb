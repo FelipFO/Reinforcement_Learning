{
 "cells": [
  {
   "cell_type": "code",
   "execution_count": 1,
   "id": "352e05fd-bdce-4361-8510-31d062d3f8de",
   "metadata": {},
   "outputs": [],
   "source": [
    "class Environment:\n",
    "    def __init__(self):\n",
    "        self.steps = 10\n",
    "        self.board = [False for x in range(0, 5)]\n",
    "        self.board[4] = True\n",
    "    \n",
    "    def reset(self):\n",
    "        self.steps = 10\n",
    "    \n",
    "    def start(self):\n",
    "        return 0\n",
    "    \n",
    "    def end(self): \n",
    "        return len(self.board)\n",
    "    \n",
    "    def is_done(self) -> bool:\n",
    "        return self.steps == 0\n",
    "    \n",
    "    def action(self, state) -> bool:\n",
    "        self.steps -= 1\n",
    "        if self.is_done():\n",
    "            print(\"Did not reach the goal\")\n",
    "        return self.board[state]\n",
    "        "
   ]
  },
  {
   "cell_type": "code",
   "execution_count": 2,
   "id": "b6ca87dd-4171-4fb0-9e9b-6b5b393d958b",
   "metadata": {},
   "outputs": [],
   "source": [
    "import random\n",
    "\n",
    "class Agent:\n",
    "    def __init__(self):\n",
    "        self.state = 0\n",
    "        self.actions = [0,1]\n",
    "\n",
    "    def reset(self):\n",
    "        self.state = 0\n",
    "        \n",
    "    def forward(self, limit):\n",
    "        self.state = min(self.state + 1, limit-1)\n",
    "        \n",
    "    def back(self, lowLimit):\n",
    "        self.state = max(self.state - 1, lowLimit)\n",
    "        \n",
    "    def action(self, env: Environment):\n",
    "        action = random.choice(self.actions)\n",
    "        if action:\n",
    "            self.forward(env.end())\n",
    "        else:\n",
    "            self.back(env.start())\n",
    "        return env.action(self.state)\n",
    "    "
   ]
  },
  {
   "cell_type": "code",
   "execution_count": 3,
   "id": "21efb772-8d63-4e22-9ca1-b1967a2889fd",
   "metadata": {},
   "outputs": [
    {
     "name": "stdout",
     "output_type": "stream",
     "text": [
      "Episode: 1\n",
      "Did not reach the goal\n",
      "0 success - 10 Fail\n",
      "Episode: 2\n",
      "Did not reach the goal\n",
      "0 success - 10 Fail\n",
      "Episode: 3\n",
      "Did not reach the goal\n",
      "2 success - 8 Fail\n",
      "Episode: 4\n",
      "Did not reach the goal\n",
      "4 success - 6 Fail\n",
      "Episode: 5\n",
      "Did not reach the goal\n",
      "0 success - 10 Fail\n",
      "Episode: 6\n",
      "Did not reach the goal\n",
      "0 success - 10 Fail\n",
      "Episode: 7\n",
      "Did not reach the goal\n",
      "0 success - 10 Fail\n",
      "Episode: 8\n",
      "Did not reach the goal\n",
      "2 success - 8 Fail\n",
      "Episode: 9\n",
      "Did not reach the goal\n",
      "0 success - 10 Fail\n",
      "Episode: 10\n",
      "Did not reach the goal\n",
      "0 success - 10 Fail\n"
     ]
    }
   ],
   "source": [
    "def main():\n",
    "    episodes = 10\n",
    "    a = Agent()\n",
    "    e = Environment()\n",
    "    for i in range(0, episodes):\n",
    "        print(f\"Episode: {i+1}\")\n",
    "        count = 0\n",
    "        while not e.is_done():\n",
    "            count += a.action(e)\n",
    "        print(f\"{count} success - {episodes - count} Fail\")\n",
    "        a.reset()\n",
    "        e.reset()\n",
    "        \n",
    "main()"
   ]
  },
  {
   "cell_type": "code",
   "execution_count": null,
   "id": "86b9b386-91c3-4008-ae53-940199751ae5",
   "metadata": {},
   "outputs": [],
   "source": []
  }
 ],
 "metadata": {
  "kernelspec": {
   "display_name": "Python 3 (ipykernel)",
   "language": "python",
   "name": "python3"
  },
  "language_info": {
   "codemirror_mode": {
    "name": "ipython",
    "version": 3
   },
   "file_extension": ".py",
   "mimetype": "text/x-python",
   "name": "python",
   "nbconvert_exporter": "python",
   "pygments_lexer": "ipython3",
   "version": "3.11.4"
  },
  "vscode": {
   "interpreter": {
    "hash": "31f2aee4e71d21fbe5cf8b01ff0e069b9275f58929596ceb00d14d90e3e16cd6"
   }
  }
 },
 "nbformat": 4,
 "nbformat_minor": 5
}
